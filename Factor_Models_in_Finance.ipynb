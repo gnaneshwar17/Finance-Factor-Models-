{
  "cells": [
    {
      "cell_type": "markdown",
      "source": [
        "Capital Asset Pricing Model (CAPM) and Fama French Model"
      ],
      "metadata": {
        "id": "ZmDRqj8XbO7B"
      }
    },
    {
      "cell_type": "code",
      "execution_count": 9,
      "metadata": {
        "colab": {
          "base_uri": "https://localhost:8080/"
        },
        "id": "QfNwzSHGaAtJ",
        "outputId": "b615f557-8dce-41af-d064-ee02b312e16c"
      },
      "outputs": [
        {
          "output_type": "stream",
          "name": "stdout",
          "text": [
            "Expected Return (CAPM): 17.00%\n",
            "Alpha (CAPM): 3.00%\n",
            "Expected Return (Fama-French): 17.10%\n",
            "Alpha (Fama-French): 0.40%\n"
          ]
        }
      ],
      "source": [
        "# CAPM functions\n",
        "def calculate_expected_return_rf(beta, risk_free_rate, market_return):\n",
        "    expected_return = risk_free_rate + beta * (market_return - risk_free_rate)\n",
        "    return expected_return\n",
        "\n",
        "def calculate_alpha(actual_return, beta, risk_free_rate, market_return):\n",
        "    expected_return = calculate_expected_return_rf(beta, risk_free_rate, market_return)\n",
        "    alpha = actual_return - expected_return\n",
        "    return alpha\n",
        "\n",
        "# Fama-French functions\n",
        "def fama_french_expected_return(beta_m, beta_smb, beta_hml, market_return, risk_free_rate, SMB, HML):\n",
        "    expected_return = (risk_free_rate +\n",
        "                       beta_m * (market_return - risk_free_rate) +\n",
        "                       beta_smb * SMB +\n",
        "                       beta_hml * HML)\n",
        "    return expected_return\n",
        "\n",
        "def fama_french_alpha(actual_return, beta_m, beta_smb, beta_hml, market_return, risk_free_rate, SMB, HML):\n",
        "    expected_return = fama_french_expected_return(beta_m, beta_smb, beta_hml, market_return, risk_free_rate, SMB, HML)\n",
        "    alpha = actual_return - expected_return\n",
        "    return alpha\n",
        "\n",
        "# Example values for CAPM\n",
        "beta = 2.5\n",
        "risk_free_rate = 0.02\n",
        "market_return = 0.08\n",
        "actual_return = 0.2\n",
        "\n",
        "# Calculate CAPM expected return and alpha\n",
        "expected_return_capm = calculate_expected_return_rf(beta, risk_free_rate, market_return)\n",
        "alpha_capm = calculate_alpha(actual_return, beta, risk_free_rate, market_return)\n",
        "\n",
        "print(f\"Expected Return (CAPM): {expected_return_capm * 100:.2f}%\")\n",
        "print(f\"Alpha (CAPM): {alpha_capm * 100:.2f}%\")\n",
        "\n",
        "# Example values for Fama-French\n",
        "beta_m = 1.5\n",
        "beta_smb = 0.5\n",
        "beta_hml = 0.9\n",
        "SMB = 0.05  # Size premium\n",
        "HML = 0.04 # Value premium\n",
        "actual_return_ff = 0.175\n",
        "\n",
        "# Calculate Fama-French expected return and alpha\n",
        "expected_return_ff = fama_french_expected_return(beta_m, beta_smb, beta_hml, market_return, risk_free_rate, SMB, HML)\n",
        "alpha_ff = fama_french_alpha(actual_return_ff, beta_m, beta_smb, beta_hml, market_return, risk_free_rate, SMB, HML)\n",
        "\n",
        "print(f\"Expected Return (Fama-French): {expected_return_ff * 100:.2f}%\")\n",
        "print(f\"Alpha (Fama-French): {alpha_ff * 100:.2f}%\")"
      ]
    }
  ],
  "metadata": {
    "colab": {
      "provenance": []
    },
    "kernelspec": {
      "display_name": "Python 3",
      "name": "python3"
    },
    "language_info": {
      "name": "python"
    }
  },
  "nbformat": 4,
  "nbformat_minor": 0
}